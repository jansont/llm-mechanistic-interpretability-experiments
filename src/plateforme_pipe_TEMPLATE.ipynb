{
 "cells": [
  {
   "cell_type": "code",
   "execution_count": null,
   "metadata": {},
   "outputs": [],
   "source": [
    "import seaborn as sns\n",
    "import numpy as np\n",
    "import polars as pl\n",
    "import matplotlib.pyplot as plt\n",
    "\n",
    "import pandas as pd\n",
    "import sqlite3\n",
    "import time"
   ]
  },
  {
   "attachments": {},
   "cell_type": "markdown",
   "metadata": {},
   "source": [
    "For this to work you need to read the plateform documentation.\n",
    "\n",
    "-> Fill a /src/.env file with:\n",
    "- CRAFT_AI_ENVIRONMENT_URL = \"https://xxxxxxx.craft.ai\"\n",
    "- CRAFT_AI_SDK_TOKEN = \"xxxxxxxxxxxxxxxxxxxxx\"\n",
    "- MY_REPO_URL = \"git@github.com:xxxxxxxx.git\"\n",
    "- MY_SSH_KEY_FILEPATH = \"xxxxxxxxx\""
   ]
  },
  {
   "cell_type": "code",
   "execution_count": null,
   "metadata": {},
   "outputs": [],
   "source": [
    "from craft_ai_sdk import CraftAiSdk\n",
    "import os\n",
    "from dotenv import load_dotenv\n",
    "\n",
    "load_dotenv()\n",
    "\n",
    "CRAFT_AI_ENVIRONMENT_URL = os.getenv(\"CRAFT_AI_ENVIRONMENT_URL\")\n",
    "CRAFT_AI_SDK_TOKEN = os.getenv(\"CRAFT_AI_SDK_TOKEN\")\n",
    "MY_REPO_URL = os.getenv(\"MY_REPO_URL\")\n",
    "\n",
    "sdk = CraftAiSdk(sdk_token=CRAFT_AI_SDK_TOKEN, environment_url=CRAFT_AI_ENVIRONMENT_URL)\n",
    "\n",
    "\n",
    "with open(os.getenv(\"MY_SSH_KEY_FILEPATH\"), 'r') as file:\n",
    "     private_key = file.read().rstrip()\n"
   ]
  },
  {
   "cell_type": "markdown",
   "metadata": {},
   "source": [
    "n_step is the footer for step name and pipeline name. This notebook will first delete steps and pipeline with that footer then create a new one\n",
    "\n",
    "The fct is the function name from datexim_fcts.py that the step will use."
   ]
  },
  {
   "cell_type": "code",
   "execution_count": null,
   "metadata": {},
   "outputs": [],
   "source": [
    "header = \"datex\"\n",
    "footer = \"1\"\n",
    "fct = \"alib_epxl_anchors\""
   ]
  },
  {
   "cell_type": "code",
   "execution_count": null,
   "metadata": {},
   "outputs": [],
   "source": [
    "step_name = header + \"step-\" + footer\n",
    "pipe_name = header + \"pipe-\" + footer"
   ]
  },
  {
   "cell_type": "markdown",
   "metadata": {},
   "source": [
    "---"
   ]
  },
  {
   "cell_type": "code",
   "execution_count": null,
   "metadata": {},
   "outputs": [],
   "source": [
    "sdk.list_steps()"
   ]
  },
  {
   "cell_type": "code",
   "execution_count": null,
   "metadata": {},
   "outputs": [],
   "source": [
    "if step_name in [x['name'] for x in sdk.list_steps()]:\n",
    "    sdk.delete_step(step_name=step_name)"
   ]
  },
  {
   "cell_type": "code",
   "execution_count": null,
   "metadata": {},
   "outputs": [],
   "source": [
    "try:\n",
    "    sdk.delete_pipeline(pipeline_name=pipe_name)\n",
    "except:\n",
    "    print(\"Pipeline does not exist\")"
   ]
  },
  {
   "cell_type": "code",
   "execution_count": null,
   "metadata": {},
   "outputs": [],
   "source": [
    "#create Step\n",
    "sdk.create_step(\n",
    "\tstep_name=step_name,\n",
    "\tfunction_path=\"src/light/datexim_fcts.py\",\n",
    "\tfunction_name=fct,#compute_shap_vals\n",
    "\t\n",
    "\tcontainer_config={\n",
    "\t\t\"dockerfile_path\": \"Dockerfile\",\n",
    "\t\t\t\"language\": \"python:3.8-slim\",\n",
    "\t\t\t\"repository_url\": MY_REPO_URL,\n",
    "\t\t\t\"repository_deploy_key\": private_key,\n",
    "\t\t\t\"included_folders\":[\"src\",\"requirements.txt\"],\n",
    "\t}\n",
    ")"
   ]
  },
  {
   "cell_type": "code",
   "execution_count": null,
   "metadata": {},
   "outputs": [],
   "source": [
    "sdk.list_steps()"
   ]
  },
  {
   "cell_type": "code",
   "execution_count": null,
   "metadata": {},
   "outputs": [],
   "source": [
    "i=0\n",
    "while(sdk.list_steps()[-1]['status'] != \"Ready\"):#or specific step[x['status'] for x in sdk.list_steps() if x['name']==\"datexstep-\"+str(n_step)]\n",
    "    time.sleep(1)\n",
    "    i+=1\n",
    "print(i)\n",
    "sdk.list_steps()"
   ]
  },
  {
   "cell_type": "code",
   "execution_count": null,
   "metadata": {},
   "outputs": [],
   "source": [
    "sdk.list_steps()"
   ]
  },
  {
   "cell_type": "code",
   "execution_count": null,
   "metadata": {},
   "outputs": [],
   "source": [
    "sdk.create_pipeline(pipeline_name=pipe_name, step_name=step_name)"
   ]
  },
  {
   "cell_type": "code",
   "execution_count": null,
   "metadata": {},
   "outputs": [],
   "source": [
    "exec_id = sdk.execute_pipeline(pipeline_name=pipe_name)\n",
    "exec_id"
   ]
  },
  {
   "cell_type": "code",
   "execution_count": null,
   "metadata": {},
   "outputs": [],
   "source": [
    "sdk.get_pipeline_execution(pipeline_name=pipe_name, execution_id=exec_id[\"execution_id\"])"
   ]
  },
  {
   "cell_type": "code",
   "execution_count": null,
   "metadata": {},
   "outputs": [],
   "source": [
    "i=0\n",
    "while(sdk.list_pipeline_executions(pipeline_name=pipe_name)[0]['status'] == \"Running\"):\n",
    "    time.sleep(1)\n",
    "    i+=1\n",
    "print(i)\n",
    "sdk.list_pipeline_executions(pipeline_name=pipe_name)"
   ]
  },
  {
   "cell_type": "code",
   "execution_count": null,
   "metadata": {},
   "outputs": [],
   "source": [
    "logs = sdk.get_pipeline_execution_logs(pipeline_name=pipe_name, execution_id=exec_id['execution_id'])\n",
    "print('\\n'.join(log[\"message\"] for log in logs))"
   ]
  },
  {
   "cell_type": "code",
   "execution_count": null,
   "metadata": {},
   "outputs": [],
   "source": [
    "logs = sdk.get_pipeline_execution_logs(pipeline_name=pipe_name, execution_id=sdk.list_pipeline_executions(pipe_name)[-1][\"execution_id\"])\n",
    "print('\\n'.join(log[\"message\"] for log in logs))"
   ]
  },
  {
   "cell_type": "code",
   "execution_count": null,
   "metadata": {},
   "outputs": [],
   "source": [
    "sdk.list_pipeline_executions(pipe_name)[-1][\"execution_id\"]"
   ]
  },
  {
   "cell_type": "markdown",
   "metadata": {},
   "source": [
    "---"
   ]
  }
 ],
 "metadata": {
  "kernelspec": {
   "display_name": "Python 3",
   "language": "python",
   "name": "python3"
  },
  "language_info": {
   "codemirror_mode": {
    "name": "ipython",
    "version": 3
   },
   "file_extension": ".py",
   "mimetype": "text/x-python",
   "name": "python",
   "nbconvert_exporter": "python",
   "pygments_lexer": "ipython3",
   "version": "3.8.10 (default, Nov 14 2022, 12:59:47) \n[GCC 9.4.0]"
  },
  "vscode": {
   "interpreter": {
    "hash": "916dbcbb3f70747c44a77c7bcd40155683ae19c65e1c03b4aa3499c5328201f1"
   }
  }
 },
 "nbformat": 4,
 "nbformat_minor": 2
}
